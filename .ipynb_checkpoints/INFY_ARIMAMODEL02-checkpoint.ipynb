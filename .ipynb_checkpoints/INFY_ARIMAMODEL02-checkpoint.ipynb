{
 "cells": [
  {
   "cell_type": "code",
   "execution_count": 1,
   "metadata": {},
   "outputs": [],
   "source": [
    "import numpy as np \n",
    "import pandas as pd "
   ]
  },
  {
   "cell_type": "code",
   "execution_count": 2,
   "metadata": {},
   "outputs": [],
   "source": [
    "import os\n",
    "import warnings\n",
    "warnings.filterwarnings('ignore')\n",
    "from pylab import rcParams\n",
    "rcParams['figure.figsize'] = 10, 6\n",
    "from statsmodels.tsa.stattools import adfuller\n",
    "from statsmodels.tsa.seasonal import seasonal_decompose\n",
    "from statsmodels.tsa.arima_model import ARIMA\n",
    "from pmdarima.arima import auto_arima\n",
    "from sklearn.metrics import mean_squared_error, mean_absolute_error\n",
    "import math\n",
    "import numpy as np\n",
    "from nsepy import get_history\n",
    "from datetime import date\n",
    "import matplotlib.pyplot as plt\n",
    "import seaborn as sns\n",
    "import pandas as pd\n",
    "import plotly.graph_objects as go"
   ]
  },
  {
   "cell_type": "code",
   "execution_count": 3,
   "metadata": {
    "scrolled": true
   },
   "outputs": [
    {
     "data": {
      "text/html": [
       "<div>\n",
       "<style scoped>\n",
       "    .dataframe tbody tr th:only-of-type {\n",
       "        vertical-align: middle;\n",
       "    }\n",
       "\n",
       "    .dataframe tbody tr th {\n",
       "        vertical-align: top;\n",
       "    }\n",
       "\n",
       "    .dataframe thead th {\n",
       "        text-align: right;\n",
       "    }\n",
       "</style>\n",
       "<table border=\"1\" class=\"dataframe\">\n",
       "  <thead>\n",
       "    <tr style=\"text-align: right;\">\n",
       "      <th></th>\n",
       "      <th>Symbol</th>\n",
       "      <th>Series</th>\n",
       "      <th>Prev Close</th>\n",
       "      <th>Open</th>\n",
       "      <th>High</th>\n",
       "      <th>Low</th>\n",
       "      <th>Last</th>\n",
       "      <th>Close</th>\n",
       "      <th>VWAP</th>\n",
       "      <th>Volume</th>\n",
       "      <th>Turnover</th>\n",
       "      <th>Trades</th>\n",
       "      <th>Deliverable Volume</th>\n",
       "      <th>%Deliverble</th>\n",
       "    </tr>\n",
       "    <tr>\n",
       "      <th>Date</th>\n",
       "      <th></th>\n",
       "      <th></th>\n",
       "      <th></th>\n",
       "      <th></th>\n",
       "      <th></th>\n",
       "      <th></th>\n",
       "      <th></th>\n",
       "      <th></th>\n",
       "      <th></th>\n",
       "      <th></th>\n",
       "      <th></th>\n",
       "      <th></th>\n",
       "      <th></th>\n",
       "      <th></th>\n",
       "    </tr>\n",
       "  </thead>\n",
       "  <tbody>\n",
       "    <tr>\n",
       "      <th>2020-01-01</th>\n",
       "      <td>INFY</td>\n",
       "      <td>EQ</td>\n",
       "      <td>731.15</td>\n",
       "      <td>735.0</td>\n",
       "      <td>740.0</td>\n",
       "      <td>732.55</td>\n",
       "      <td>739.35</td>\n",
       "      <td>736.85</td>\n",
       "      <td>735.35</td>\n",
       "      <td>2112415</td>\n",
       "      <td>1.553369e+14</td>\n",
       "      <td>36769</td>\n",
       "      <td>561646</td>\n",
       "      <td>0.2659</td>\n",
       "    </tr>\n",
       "    <tr>\n",
       "      <th>2020-01-02</th>\n",
       "      <td>INFY</td>\n",
       "      <td>EQ</td>\n",
       "      <td>736.85</td>\n",
       "      <td>738.9</td>\n",
       "      <td>740.8</td>\n",
       "      <td>730.90</td>\n",
       "      <td>735.75</td>\n",
       "      <td>734.70</td>\n",
       "      <td>735.22</td>\n",
       "      <td>5658200</td>\n",
       "      <td>4.160025e+14</td>\n",
       "      <td>102483</td>\n",
       "      <td>3413440</td>\n",
       "      <td>0.6033</td>\n",
       "    </tr>\n",
       "    <tr>\n",
       "      <th>2020-01-03</th>\n",
       "      <td>INFY</td>\n",
       "      <td>EQ</td>\n",
       "      <td>734.70</td>\n",
       "      <td>733.9</td>\n",
       "      <td>748.0</td>\n",
       "      <td>733.90</td>\n",
       "      <td>745.00</td>\n",
       "      <td>746.00</td>\n",
       "      <td>744.67</td>\n",
       "      <td>7882938</td>\n",
       "      <td>5.870173e+14</td>\n",
       "      <td>105632</td>\n",
       "      <td>3682521</td>\n",
       "      <td>0.4672</td>\n",
       "    </tr>\n",
       "    <tr>\n",
       "      <th>2020-01-06</th>\n",
       "      <td>INFY</td>\n",
       "      <td>EQ</td>\n",
       "      <td>746.00</td>\n",
       "      <td>746.1</td>\n",
       "      <td>753.8</td>\n",
       "      <td>736.50</td>\n",
       "      <td>738.50</td>\n",
       "      <td>738.85</td>\n",
       "      <td>743.51</td>\n",
       "      <td>6519403</td>\n",
       "      <td>4.847237e+14</td>\n",
       "      <td>129992</td>\n",
       "      <td>2871332</td>\n",
       "      <td>0.4404</td>\n",
       "    </tr>\n",
       "    <tr>\n",
       "      <th>2020-01-07</th>\n",
       "      <td>INFY</td>\n",
       "      <td>EQ</td>\n",
       "      <td>738.85</td>\n",
       "      <td>738.0</td>\n",
       "      <td>742.6</td>\n",
       "      <td>725.10</td>\n",
       "      <td>729.30</td>\n",
       "      <td>727.90</td>\n",
       "      <td>734.63</td>\n",
       "      <td>7899363</td>\n",
       "      <td>5.803120e+14</td>\n",
       "      <td>189680</td>\n",
       "      <td>3976564</td>\n",
       "      <td>0.5034</td>\n",
       "    </tr>\n",
       "  </tbody>\n",
       "</table>\n",
       "</div>"
      ],
      "text/plain": [
       "           Symbol Series  Prev Close   Open   High     Low    Last   Close  \\\n",
       "Date                                                                         \n",
       "2020-01-01   INFY     EQ      731.15  735.0  740.0  732.55  739.35  736.85   \n",
       "2020-01-02   INFY     EQ      736.85  738.9  740.8  730.90  735.75  734.70   \n",
       "2020-01-03   INFY     EQ      734.70  733.9  748.0  733.90  745.00  746.00   \n",
       "2020-01-06   INFY     EQ      746.00  746.1  753.8  736.50  738.50  738.85   \n",
       "2020-01-07   INFY     EQ      738.85  738.0  742.6  725.10  729.30  727.90   \n",
       "\n",
       "              VWAP   Volume      Turnover  Trades  Deliverable Volume  \\\n",
       "Date                                                                    \n",
       "2020-01-01  735.35  2112415  1.553369e+14   36769              561646   \n",
       "2020-01-02  735.22  5658200  4.160025e+14  102483             3413440   \n",
       "2020-01-03  744.67  7882938  5.870173e+14  105632             3682521   \n",
       "2020-01-06  743.51  6519403  4.847237e+14  129992             2871332   \n",
       "2020-01-07  734.63  7899363  5.803120e+14  189680             3976564   \n",
       "\n",
       "            %Deliverble  \n",
       "Date                     \n",
       "2020-01-01       0.2659  \n",
       "2020-01-02       0.6033  \n",
       "2020-01-03       0.4672  \n",
       "2020-01-06       0.4404  \n",
       "2020-01-07       0.5034  "
      ]
     },
     "execution_count": 3,
     "metadata": {},
     "output_type": "execute_result"
    }
   ],
   "source": [
    "infy = get_history(symbol='INFY',\n",
    "                   start=date(2020,1,1),\n",
    "                   end=date(2021,1,1))\n",
    "infy.head()"
   ]
  },
  {
   "cell_type": "code",
   "execution_count": 4,
   "metadata": {},
   "outputs": [
    {
     "name": "stdout",
     "output_type": "stream",
     "text": [
      "<class 'pandas.core.frame.DataFrame'>\n",
      "Index: 253 entries, 2020-01-01 to 2021-01-01\n",
      "Data columns (total 14 columns):\n",
      " #   Column              Non-Null Count  Dtype  \n",
      "---  ------              --------------  -----  \n",
      " 0   Symbol              253 non-null    object \n",
      " 1   Series              253 non-null    object \n",
      " 2   Prev Close          253 non-null    float64\n",
      " 3   Open                253 non-null    float64\n",
      " 4   High                253 non-null    float64\n",
      " 5   Low                 253 non-null    float64\n",
      " 6   Last                253 non-null    float64\n",
      " 7   Close               253 non-null    float64\n",
      " 8   VWAP                253 non-null    float64\n",
      " 9   Volume              253 non-null    int64  \n",
      " 10  Turnover            253 non-null    float64\n",
      " 11  Trades              253 non-null    int64  \n",
      " 12  Deliverable Volume  253 non-null    int64  \n",
      " 13  %Deliverble         253 non-null    float64\n",
      "dtypes: float64(9), int64(3), object(2)\n",
      "memory usage: 29.6+ KB\n"
     ]
    }
   ],
   "source": [
    "infy.info()"
   ]
  },
  {
   "cell_type": "markdown",
   "metadata": {},
   "source": [
    "### creating a model to forecast the closing price of the INFY stock "
   ]
  },
  {
   "cell_type": "code",
   "execution_count": 5,
   "metadata": {},
   "outputs": [
    {
     "data": {
      "image/png": "[encoded data removed]",
      "text/plain": [
       "<Figure size 720x432 with 1 Axes>"
      ]
     },
     "metadata": {
      "needs_background": "light"
     },
     "output_type": "display_data"
    }
   ],
   "source": [
    "plt.figure(figsize=(10,6))\n",
    "plt.grid(True)\n",
    "plt.xlabel('Dates')\n",
    "plt.ylabel('Close Prices')\n",
    "plt.plot(infy['Close'])\n",
    "plt.title('INFY closing price')\n",
    "plt.show()\n"
   ]
  },
  {
   "cell_type": "code",
   "execution_count": 6,
   "metadata": {},
   "outputs": [
    {
     "data": {
      "image/png": "[encoded data removed]",
      "text/plain": [
       "<Figure size 720x432 with 1 Axes>"
      ]
     },
     "metadata": {
      "needs_background": "light"
     },
     "output_type": "display_data"
    }
   ],
   "source": [
    "plt.figure(figsize=(10,6))\n",
    "df_close = infy['Close']\n",
    "df_close.plot(style='k.')\n",
    "plt.title('Scatter plot of closing price')\n",
    "plt.show()"
   ]
  },
  {
   "cell_type": "code",
   "execution_count": 7,
   "metadata": {},
   "outputs": [
    {
     "data": {
      "image/png": "[encoded data removed]",
      "text/plain": [
       "<Figure size 720x432 with 1 Axes>"
      ]
     },
     "metadata": {
      "needs_background": "light"
     },
     "output_type": "display_data"
    }
   ],
   "source": [
    "plt.figure(figsize=(10,6))\n",
    "df_close = infy['Close']\n",
    "df_close.plot(style='k.',kind='hist')\n",
    "plt.title('Hisogram of closing price')\n",
    "plt.show()"
   ]
  },
  {
   "cell_type": "code",
   "execution_count": 8,
   "metadata": {},
   "outputs": [
    {
     "data": {
      "image/png": "[encoded data removed]",
      "text/plain": [
       "<Figure size 720x432 with 1 Axes>"
      ]
     },
     "metadata": {
      "needs_background": "light"
     },
     "output_type": "display_data"
    },
    {
     "name": "stdout",
     "output_type": "stream",
     "text": [
      "Results of dickey fuller test\n",
      "Test Statistics                  0.586553\n",
      "p-value                          0.987279\n",
      "No. of lags used                 1.000000\n",
      "Number of observations used    251.000000\n",
      "critical value (1%)             -3.456674\n",
      "critical value (5%)             -2.873125\n",
      "critical value (10%)            -2.572944\n",
      "dtype: float64\n"
     ]
    }
   ],
   "source": [
    "from statsmodels.tsa.stattools import adfuller\n",
    "def test_stationarity(timeseries):\n",
    "    #Determing rolling statistics\n",
    "    rolmean = timeseries.rolling(12).mean()\n",
    "    rolstd = timeseries.rolling(12).std()\n",
    "    #Plot rolling statistics:\n",
    "    plt.plot(timeseries, color='yellow',label='Original')\n",
    "    plt.plot(rolmean, color='red', label='Rolling Mean')\n",
    "    plt.plot(rolstd, color='black', label = 'Rolling Std')\n",
    "    plt.legend(loc='best')\n",
    "    plt.title('Rolling Mean and Standard Deviation')\n",
    "    plt.show(block=False)\n",
    "    print(\"Results of dickey fuller test\")\n",
    "    adft = adfuller(timeseries,autolag='AIC')\n",
    "    # output for dft will give us without defining what the values are.\n",
    "    #hence we manually write what values does it explains using a for loop\n",
    "    output = pd.Series(adft[0:4],index=['Test Statistics','p-value','No. of lags used','Number of observations used'])\n",
    "    for key,values in adft[4].items():\n",
    "        output['critical value (%s)'%key] =  values\n",
    "    print(output)\n",
    "\n",
    "test_stationarity(infy['Close'])"
   ]
  },
  {
   "cell_type": "markdown",
   "metadata": {},
   "source": [
    "We see that the p-value is greater than 0.05 so we cannot reject the Null hypothesis. Also, the test statistics is greater than the critical values. so the data is non-stationary."
   ]
  },
  {
   "cell_type": "code",
   "execution_count": 9,
   "metadata": {},
   "outputs": [
    {
     "data": {
      "text/plain": [
       "<Figure size 720x432 with 0 Axes>"
      ]
     },
     "metadata": {},
     "output_type": "display_data"
    },
    {
     "data": {
      "image/png": "[encoded data removed]",
      "text/plain": [
       "<Figure size 1152x648 with 4 Axes>"
      ]
     },
     "metadata": {
      "needs_background": "light"
     },
     "output_type": "display_data"
    }
   ],
   "source": [
    "result = seasonal_decompose(df_close, model='multiplicative', freq = 30)\n",
    "fig = plt.figure()  \n",
    "fig = result.plot()  \n",
    "fig.set_size_inches(16, 9)"
   ]
  },
  {
   "cell_type": "code",
   "execution_count": 10,
   "metadata": {},
   "outputs": [
    {
     "name": "stderr",
     "output_type": "stream",
     "text": [
      "No handles with labels found to put in legend.\n"
     ]
    },
    {
     "data": {
      "image/png": "[encoded data removed]",
      "text/plain": [
       "<Figure size 720x432 with 1 Axes>"
      ]
     },
     "metadata": {
      "needs_background": "light"
     },
     "output_type": "display_data"
    }
   ],
   "source": [
    "from pylab import rcParams\n",
    "rcParams['figure.figsize'] = 10, 6\n",
    "df_log = np.log(infy['Close'])\n",
    "moving_avg = df_log.rolling(12).mean()\n",
    "std_dev = df_log.rolling(12).std()\n",
    "plt.legend(loc='best')\n",
    "plt.title('Moving Average')\n",
    "plt.plot(std_dev, color =\"black\", label = \"Standard Deviation\")\n",
    "plt.plot(moving_avg, color=\"red\", label = \"Mean\")\n",
    "plt.legend()\n",
    "plt.show()"
   ]
  },
  {
   "cell_type": "markdown",
   "metadata": {},
   "source": [
    "Now we are going to create an ARIMA model and will train it with the closing price of the stock on the train data. So let us split the data into training and test set and visualize it."
   ]
  },
  {
   "cell_type": "code",
   "execution_count": 11,
   "metadata": {},
   "outputs": [
    {
     "data": {
      "text/plain": [
       "<matplotlib.legend.Legend at 0x1a2a0371d0>"
      ]
     },
     "execution_count": 11,
     "metadata": {},
     "output_type": "execute_result"
    },
    {
     "data": {
      "image/png": "[encoded data removed]",
      "text/plain": [
       "<Figure size 720x432 with 1 Axes>"
      ]
     },
     "metadata": {
      "needs_background": "light"
     },
     "output_type": "display_data"
    }
   ],
   "source": [
    "train_data, test_data = df_log[3:int(len(df_log)*0.9)], df_log[int(len(df_log)*0.9):]\n",
    "plt.figure(figsize=(10,6))\n",
    "plt.grid(True)\n",
    "plt.xlabel('Dates')\n",
    "plt.ylabel('Closing Prices')\n",
    "plt.plot(df_log, 'green', label='Train data')\n",
    "plt.plot(test_data, 'blue', label='Test data')\n",
    "plt.legend()"
   ]
  },
  {
   "cell_type": "code",
   "execution_count": 12,
   "metadata": {},
   "outputs": [
    {
     "name": "stdout",
     "output_type": "stream",
     "text": [
      "Performing stepwise search to minimize aic\n",
      " ARIMA(0,1,0)(0,0,0)[0] intercept   : AIC=-989.352, Time=0.40 sec\n",
      " ARIMA(1,1,0)(0,0,0)[0] intercept   : AIC=-991.167, Time=0.04 sec\n",
      " ARIMA(0,1,1)(0,0,0)[0] intercept   : AIC=-990.507, Time=0.23 sec\n",
      " ARIMA(0,1,0)(0,0,0)[0]             : AIC=-990.116, Time=0.02 sec\n",
      " ARIMA(2,1,0)(0,0,0)[0] intercept   : AIC=-990.845, Time=0.14 sec\n",
      " ARIMA(1,1,1)(0,0,0)[0] intercept   : AIC=-989.710, Time=0.31 sec\n",
      " ARIMA(2,1,1)(0,0,0)[0] intercept   : AIC=-990.059, Time=0.57 sec\n",
      " ARIMA(1,1,0)(0,0,0)[0]             : AIC=-991.558, Time=0.04 sec\n",
      " ARIMA(2,1,0)(0,0,0)[0]             : AIC=-991.501, Time=0.04 sec\n",
      " ARIMA(1,1,1)(0,0,0)[0]             : AIC=-990.150, Time=0.10 sec\n",
      " ARIMA(0,1,1)(0,0,0)[0]             : AIC=-990.936, Time=0.05 sec\n",
      " ARIMA(2,1,1)(0,0,0)[0]             : AIC=-990.944, Time=0.16 sec\n",
      "\n",
      "Best model:  ARIMA(1,1,0)(0,0,0)[0]          \n",
      "Total fit time: 2.144 seconds\n",
      "                               SARIMAX Results                                \n",
      "==============================================================================\n",
      "Dep. Variable:                      y   No. Observations:                  224\n",
      "Model:               SARIMAX(1, 1, 0)   Log Likelihood                 497.779\n",
      "Date:                Thu, 06 May 2021   AIC                           -991.558\n",
      "Time:                        19:04:21   BIC                           -984.743\n",
      "Sample:                             0   HQIC                          -988.807\n",
      "                                - 224                                         \n",
      "Covariance Type:                  opg                                         \n",
      "==============================================================================\n",
      "                 coef    std err          z      P>|z|      [0.025      0.975]\n",
      "------------------------------------------------------------------------------\n",
      "ar.L1         -0.1239      0.039     -3.216      0.001      -0.199      -0.048\n",
      "sigma2         0.0007   3.86e-05     17.441      0.000       0.001       0.001\n",
      "===================================================================================\n",
      "Ljung-Box (Q):                       56.53   Jarque-Bera (JB):               131.07\n",
      "Prob(Q):                              0.04   Prob(JB):                         0.00\n",
      "Heteroskedasticity (H):               0.21   Skew:                            -0.03\n",
      "Prob(H) (two-sided):                  0.00   Kurtosis:                         6.76\n",
      "===================================================================================\n",
      "\n",
      "Warnings:\n",
      "[1] Covariance matrix calculated using the outer product of gradients (complex-step).\n"
     ]
    }
   ],
   "source": [
    "model_autoARIMA = auto_arima(train_data, start_p=0, start_q=0,\n",
    "test='adf',       # use adftest to find optimal 'd'\n",
    "max_p=3, max_q=3, # maximum p and q\n",
    "m=1,              # frequency of series\n",
    "d=None,           # let model determine 'd'\n",
    "seasonal=False,   # No Seasonality\n",
    "start_P=0, \n",
    "D=0, \n",
    "trace=True,\n",
    "error_action='ignore',  \n",
    "suppress_warnings=True, \n",
    "stepwise=True)\n",
    "print(model_autoARIMA.summary())"
   ]
  },
  {
   "cell_type": "code",
   "execution_count": 13,
   "metadata": {},
   "outputs": [
    {
     "data": {
      "image/png": "[encoded data removed]",
      "text/plain": [
       "<Figure size 1080x576 with 4 Axes>"
      ]
     },
     "metadata": {
      "needs_background": "light"
     },
     "output_type": "display_data"
    }
   ],
   "source": [
    "model_autoARIMA.plot_diagnostics(figsize=(15,8))\n",
    "plt.show()"
   ]
  },
  {
   "cell_type": "code",
   "execution_count": 14,
   "metadata": {},
   "outputs": [
    {
     "name": "stderr",
     "output_type": "stream",
     "text": [
      "/opt/anaconda3/lib/python3.7/site-packages/statsmodels/tsa/base/tsa_model.py:218: ValueWarning: A date index has been provided, but it has no associated frequency information and so will be ignored when e.g. forecasting.\n",
      "  ' ignored when e.g. forecasting.', ValueWarning)\n",
      "/opt/anaconda3/lib/python3.7/site-packages/statsmodels/tsa/base/tsa_model.py:218: ValueWarning: A date index has been provided, but it has no associated frequency information and so will be ignored when e.g. forecasting.\n",
      "  ' ignored when e.g. forecasting.', ValueWarning)\n"
     ]
    },
    {
     "name": "stdout",
     "output_type": "stream",
     "text": [
      "                             ARIMA Model Results                              \n",
      "==============================================================================\n",
      "Dep. Variable:                D.Close   No. Observations:                  223\n",
      "Model:                 ARIMA(3, 1, 2)   Log Likelihood                 507.123\n",
      "Method:                       css-mle   S.D. of innovations              0.025\n",
      "Date:                Thu, 06 May 2021   AIC                          -1000.247\n",
      "Time:                        19:04:23   BIC                           -976.397\n",
      "Sample:                             1   HQIC                          -990.619\n",
      "                                                                              \n",
      "=================================================================================\n",
      "                    coef    std err          z      P>|z|      [0.025      0.975]\n",
      "---------------------------------------------------------------------------------\n",
      "const             0.0020      0.002      1.200      0.230      -0.001       0.005\n",
      "ar.L1.D.Close    -1.5130      0.082    -18.518      0.000      -1.673      -1.353\n",
      "ar.L2.D.Close    -0.9042      0.131     -6.901      0.000      -1.161      -0.647\n",
      "ar.L3.D.Close     0.0283      0.075      0.379      0.704      -0.118       0.175\n",
      "ma.L1.D.Close     1.4485      0.048     30.049      0.000       1.354       1.543\n",
      "ma.L2.D.Close     0.8934      0.068     13.171      0.000       0.760       1.026\n",
      "                                    Roots                                    \n",
      "=============================================================================\n",
      "                  Real          Imaginary           Modulus         Frequency\n",
      "-----------------------------------------------------------------------------\n",
      "AR.1           -0.8118           -0.6272j            1.0259           -0.3953\n",
      "AR.2           -0.8118           +0.6272j            1.0259            0.3953\n",
      "AR.3           33.5744           -0.0000j           33.5744           -0.0000\n",
      "MA.1           -0.8106           -0.6798j            1.0580           -0.3889\n",
      "MA.2           -0.8106           +0.6798j            1.0580            0.3889\n",
      "-----------------------------------------------------------------------------\n"
     ]
    }
   ],
   "source": [
    "model = ARIMA(train_data, order=(3, 1, 2))\n",
    "fitted = model.fit(disp=-1)\n",
    "print(fitted.summary())"
   ]
  },
  {
   "cell_type": "code",
   "execution_count": 15,
   "metadata": {},
   "outputs": [],
   "source": [
    "# Forecast\n",
    "\n",
    "fc, se, conf = fitted.forecast(26, alpha=0.05)  # 95% confidence"
   ]
  },
  {
   "cell_type": "code",
   "execution_count": 16,
   "metadata": {},
   "outputs": [
    {
     "data": {
      "image/png": "[encoded data removed]",
      "text/plain": [
       "<Figure size 1200x500 with 1 Axes>"
      ]
     },
     "metadata": {
      "needs_background": "light"
     },
     "output_type": "display_data"
    }
   ],
   "source": [
    "\n",
    "fc_series = pd.Series(fc, index=test_data.index)\n",
    "lower_series = pd.Series(conf[:, 0], index=test_data.index)\n",
    "upper_series = pd.Series(conf[:, 1], index=test_data.index)\n",
    "plt.figure(figsize=(12,5), dpi=100)\n",
    "plt.plot(train_data, label='training')\n",
    "plt.plot(test_data, color = 'blue', label='Actual Stock Price')\n",
    "plt.plot(fc_series, color = 'orange',label='Predicted Stock Price')\n",
    "plt.fill_between(lower_series.index, lower_series, upper_series, \n",
    "                 color='k', alpha=.10)\n",
    "plt.title('INFY Stock Price Prediction')\n",
    "plt.xlabel('Time')\n",
    "plt.ylabel('Actual Stock Price')\n",
    "plt.legend(loc='upper left', fontsize=8)\n",
    "plt.show()"
   ]
  },
  {
   "cell_type": "code",
   "execution_count": 17,
   "metadata": {},
   "outputs": [
    {
     "data": {
      "text/html": [
       "<div>\n",
       "<style scoped>\n",
       "    .dataframe tbody tr th:only-of-type {\n",
       "        vertical-align: middle;\n",
       "    }\n",
       "\n",
       "    .dataframe tbody tr th {\n",
       "        vertical-align: top;\n",
       "    }\n",
       "\n",
       "    .dataframe thead th {\n",
       "        text-align: right;\n",
       "    }\n",
       "</style>\n",
       "<table border=\"1\" class=\"dataframe\">\n",
       "  <thead>\n",
       "    <tr style=\"text-align: right;\">\n",
       "      <th></th>\n",
       "      <th>Symbol</th>\n",
       "      <th>Series</th>\n",
       "      <th>Prev Close</th>\n",
       "      <th>Open</th>\n",
       "      <th>High</th>\n",
       "      <th>Low</th>\n",
       "      <th>Last</th>\n",
       "      <th>Close</th>\n",
       "      <th>VWAP</th>\n",
       "      <th>Volume</th>\n",
       "      <th>Turnover</th>\n",
       "      <th>Trades</th>\n",
       "      <th>Deliverable Volume</th>\n",
       "      <th>%Deliverble</th>\n",
       "    </tr>\n",
       "    <tr>\n",
       "      <th>Date</th>\n",
       "      <th></th>\n",
       "      <th></th>\n",
       "      <th></th>\n",
       "      <th></th>\n",
       "      <th></th>\n",
       "      <th></th>\n",
       "      <th></th>\n",
       "      <th></th>\n",
       "      <th></th>\n",
       "      <th></th>\n",
       "      <th></th>\n",
       "      <th></th>\n",
       "      <th></th>\n",
       "      <th></th>\n",
       "    </tr>\n",
       "  </thead>\n",
       "  <tbody>\n",
       "    <tr>\n",
       "      <th>2020-01-01</th>\n",
       "      <td>INFY</td>\n",
       "      <td>EQ</td>\n",
       "      <td>731.15</td>\n",
       "      <td>735.0</td>\n",
       "      <td>740.0</td>\n",
       "      <td>732.55</td>\n",
       "      <td>739.35</td>\n",
       "      <td>736.85</td>\n",
       "      <td>735.35</td>\n",
       "      <td>2112415</td>\n",
       "      <td>1.553369e+14</td>\n",
       "      <td>36769</td>\n",
       "      <td>561646</td>\n",
       "      <td>0.2659</td>\n",
       "    </tr>\n",
       "    <tr>\n",
       "      <th>2020-01-02</th>\n",
       "      <td>INFY</td>\n",
       "      <td>EQ</td>\n",
       "      <td>736.85</td>\n",
       "      <td>738.9</td>\n",
       "      <td>740.8</td>\n",
       "      <td>730.90</td>\n",
       "      <td>735.75</td>\n",
       "      <td>734.70</td>\n",
       "      <td>735.22</td>\n",
       "      <td>5658200</td>\n",
       "      <td>4.160025e+14</td>\n",
       "      <td>102483</td>\n",
       "      <td>3413440</td>\n",
       "      <td>0.6033</td>\n",
       "    </tr>\n",
       "    <tr>\n",
       "      <th>2020-01-03</th>\n",
       "      <td>INFY</td>\n",
       "      <td>EQ</td>\n",
       "      <td>734.70</td>\n",
       "      <td>733.9</td>\n",
       "      <td>748.0</td>\n",
       "      <td>733.90</td>\n",
       "      <td>745.00</td>\n",
       "      <td>746.00</td>\n",
       "      <td>744.67</td>\n",
       "      <td>7882938</td>\n",
       "      <td>5.870173e+14</td>\n",
       "      <td>105632</td>\n",
       "      <td>3682521</td>\n",
       "      <td>0.4672</td>\n",
       "    </tr>\n",
       "    <tr>\n",
       "      <th>2020-01-06</th>\n",
       "      <td>INFY</td>\n",
       "      <td>EQ</td>\n",
       "      <td>746.00</td>\n",
       "      <td>746.1</td>\n",
       "      <td>753.8</td>\n",
       "      <td>736.50</td>\n",
       "      <td>738.50</td>\n",
       "      <td>738.85</td>\n",
       "      <td>743.51</td>\n",
       "      <td>6519403</td>\n",
       "      <td>4.847237e+14</td>\n",
       "      <td>129992</td>\n",
       "      <td>2871332</td>\n",
       "      <td>0.4404</td>\n",
       "    </tr>\n",
       "    <tr>\n",
       "      <th>2020-01-07</th>\n",
       "      <td>INFY</td>\n",
       "      <td>EQ</td>\n",
       "      <td>738.85</td>\n",
       "      <td>738.0</td>\n",
       "      <td>742.6</td>\n",
       "      <td>725.10</td>\n",
       "      <td>729.30</td>\n",
       "      <td>727.90</td>\n",
       "      <td>734.63</td>\n",
       "      <td>7899363</td>\n",
       "      <td>5.803120e+14</td>\n",
       "      <td>189680</td>\n",
       "      <td>3976564</td>\n",
       "      <td>0.5034</td>\n",
       "    </tr>\n",
       "  </tbody>\n",
       "</table>\n",
       "</div>"
      ],
      "text/plain": [
       "           Symbol Series  Prev Close   Open   High     Low    Last   Close  \\\n",
       "Date                                                                         \n",
       "2020-01-01   INFY     EQ      731.15  735.0  740.0  732.55  739.35  736.85   \n",
       "2020-01-02   INFY     EQ      736.85  738.9  740.8  730.90  735.75  734.70   \n",
       "2020-01-03   INFY     EQ      734.70  733.9  748.0  733.90  745.00  746.00   \n",
       "2020-01-06   INFY     EQ      746.00  746.1  753.8  736.50  738.50  738.85   \n",
       "2020-01-07   INFY     EQ      738.85  738.0  742.6  725.10  729.30  727.90   \n",
       "\n",
       "              VWAP   Volume      Turnover  Trades  Deliverable Volume  \\\n",
       "Date                                                                    \n",
       "2020-01-01  735.35  2112415  1.553369e+14   36769              561646   \n",
       "2020-01-02  735.22  5658200  4.160025e+14  102483             3413440   \n",
       "2020-01-03  744.67  7882938  5.870173e+14  105632             3682521   \n",
       "2020-01-06  743.51  6519403  4.847237e+14  129992             2871332   \n",
       "2020-01-07  734.63  7899363  5.803120e+14  189680             3976564   \n",
       "\n",
       "            %Deliverble  \n",
       "Date                     \n",
       "2020-01-01       0.2659  \n",
       "2020-01-02       0.6033  \n",
       "2020-01-03       0.4672  \n",
       "2020-01-06       0.4404  \n",
       "2020-01-07       0.5034  "
      ]
     },
     "execution_count": 17,
     "metadata": {},
     "output_type": "execute_result"
    }
   ],
   "source": [
    "infy.head() "
   ]
  },
  {
   "cell_type": "code",
   "execution_count": 18,
   "metadata": {},
   "outputs": [
    {
     "data": {
      "text/plain": [
       "Date\n",
       "2020-11-25    7.049509\n",
       "2020-11-26    7.046172\n",
       "2020-11-27    7.048244\n",
       "2020-12-01    7.055105\n",
       "2020-12-02    7.049433\n",
       "2020-12-03    7.058546\n",
       "2020-12-04    7.056757\n",
       "2020-12-07    7.057739\n",
       "2020-12-08    7.064806\n",
       "2020-12-09    7.059852\n",
       "2020-12-10    7.067662\n",
       "2020-12-11    7.067202\n",
       "2020-12-14    7.067372\n",
       "2020-12-15    7.074428\n",
       "2020-12-16    7.070263\n",
       "2020-12-17    7.076866\n",
       "2020-12-18    7.077517\n",
       "2020-12-21    7.077120\n",
       "2020-12-22    7.083996\n",
       "2020-12-23    7.080647\n",
       "2020-12-24    7.086162\n",
       "2020-12-28    7.087717\n",
       "2020-12-29    7.086959\n",
       "2020-12-30    7.093533\n",
       "2020-12-31    7.090993\n",
       "2021-01-01    7.095547\n",
       "dtype: float64"
      ]
     },
     "execution_count": 18,
     "metadata": {},
     "output_type": "execute_result"
    }
   ],
   "source": [
    "fc_series"
   ]
  },
  {
   "cell_type": "code",
   "execution_count": 41,
   "metadata": {},
   "outputs": [],
   "source": [
    "infy.reset_index(inplace=True)\n",
    "# infy_ill=infy_ill[200:]"
   ]
  },
  {
   "cell_type": "code",
   "execution_count": 44,
   "metadata": {},
   "outputs": [
    {
     "data": {
      "application/vnd.plotly.v1+json": {
       "config": {
        "plotlyServerURL": "https://plot.ly"
       },
       "data": [
        {
         "close": [
          691,
          699.55,
          708.1,
          701.55,
          707.75,
          703.55,
          720.85,
          717.6,
          715.85,
          703.95,
          692.05,
          687.55,
          701.2,
          703.65,
          713.9,
          705.55,
          703.7,
          720.65,
          714.15,
          700.5,
          748.2,
          731.75,
          735.95,
          731.9,
          756.6,
          762.7,
          764,
          794.15,
          774.7,
          781.7,
          781.85,
          797.05,
          783.25,
          830.95,
          911,
          903.15,
          934.3,
          936.75,
          917.9,
          907.95,
          922.85,
          948.45,
          962.85,
          954.15,
          961.45,
          966,
          956.9,
          949.85,
          944.7,
          970.85,
          950.9,
          951.35,
          948.45,
          954.95,
          951.2,
          953.6,
          957.5,
          967.55,
          959.3,
          955.15,
          948.8,
          947.4,
          938.1,
          950.8,
          947.05,
          935.25,
          928.6,
          914.15,
          924,
          935.55,
          919.15,
          925.05,
          939.3,
          927.75,
          940.05,
          945.7,
          978.4,
          982.45,
          1001.75,
          1011,
          1002.15,
          1009.9,
          1007.5,
          1019.75,
          975.4,
          1011.45,
          1010.4,
          1009,
          1008.25,
          1017.65,
          1048.7,
          1055.75,
          1066.55,
          1093.7,
          1106.8,
          1132.1,
          1157.8,
          1137,
          1108.25,
          1127.5,
          1125.9,
          1137.5,
          1148.35,
          1129.05,
          1122.5,
          1112.45,
          1090.85,
          1076.55,
          1074.85,
          1060.6,
          1072.3,
          1062.55,
          1093.95,
          1104,
          1112.75,
          1136.55,
          1091.05,
          1122.5,
          1117.75,
          1124.2,
          1133.45,
          1123.7,
          1110.55,
          1096.75,
          1103.35,
          1139.85,
          1140.05,
          1115.65,
          1113.2,
          1100,
          1137.85,
          1140.9,
          1126.45,
          1134.65,
          1143.5,
          1153.35,
          1175.2,
          1167.75,
          1163.2,
          1164.55,
          1154.6,
          1165.7,
          1159.2,
          1189.8,
          1177.3,
          1220.5,
          1253.05,
          1236.05,
          1240.3,
          1250.3,
          1246.8,
          1255.8,
          1260.45
         ],
         "high": [
          700.8,
          706.65,
          711.65,
          711.9,
          709.45,
          711.7,
          725.8,
          729.6,
          719.45,
          713.4,
          695.15,
          704.4,
          712,
          710.3,
          716.6,
          711.9,
          708.7,
          724.5,
          726.8,
          705.6,
          751.6,
          744.7,
          738.95,
          742.3,
          765.45,
          764,
          775,
          796.95,
          784.9,
          790,
          789.9,
          805.35,
          806.4,
          848.45,
          955.5,
          919.9,
          945,
          949.7,
          939,
          915.8,
          925.75,
          952.8,
          967.55,
          960,
          972.65,
          986.45,
          965.4,
          970.7,
          960.95,
          974.4,
          969.45,
          956.8,
          962,
          958.8,
          968.5,
          963,
          972.45,
          969.2,
          971.55,
          965.5,
          963.45,
          952,
          948.65,
          954.25,
          960.95,
          952.5,
          950.5,
          935,
          926.4,
          949.4,
          929.5,
          927.55,
          952,
          946,
          942,
          954.15,
          991.05,
          994,
          1005.65,
          1021,
          1018.8,
          1031,
          1022.5,
          1037,
          1009,
          1014.9,
          1016.15,
          1028,
          1023.95,
          1026.5,
          1054.9,
          1060,
          1072,
          1124,
          1113.3,
          1140,
          1166.05,
          1164.9,
          1186,
          1135.95,
          1139,
          1144.7,
          1154.35,
          1158,
          1135,
          1129.6,
          1109.7,
          1104.75,
          1082,
          1083.6,
          1079.95,
          1079.4,
          1116,
          1123,
          1121.1,
          1146,
          1113.85,
          1126.35,
          1142,
          1133,
          1139.65,
          1145,
          1132.7,
          1114.7,
          1109,
          1144.8,
          1154.9,
          1143.5,
          1119.95,
          1121,
          1140.25,
          1147.45,
          1147,
          1137,
          1153,
          1167,
          1179.5,
          1171.65,
          1171.95,
          1172.6,
          1163.7,
          1168.9,
          1168.9,
          1195,
          1209.75,
          1223.85,
          1258.85,
          1249.9,
          1248,
          1254.45,
          1253.3,
          1258.4,
          1265.5
         ],
         "low": [
          674.95,
          691.5,
          697.55,
          696,
          697.5,
          700.6,
          704,
          715.05,
          709.2,
          700.25,
          675.5,
          685.25,
          699.15,
          698,
          706,
          701,
          700,
          692.1,
          709.4,
          693.5,
          710,
          730.1,
          724.25,
          729.75,
          735.4,
          752.5,
          761.5,
          765.55,
          772.2,
          775,
          773.5,
          786.05,
          781.35,
          794.8,
          894.25,
          892.15,
          906.75,
          929.2,
          910,
          900.65,
          903.25,
          918.65,
          941.2,
          943.6,
          958.75,
          953.3,
          947.45,
          940.55,
          938.3,
          942.5,
          949,
          945.3,
          946.1,
          942.2,
          948.25,
          952.05,
          954.1,
          958.7,
          957.45,
          951.3,
          946.55,
          939.2,
          933.6,
          938.4,
          945.2,
          933.05,
          914.6,
          912.1,
          913.5,
          924,
          914.45,
          913.05,
          925.55,
          926,
          924.8,
          931,
          948.3,
          971.65,
          982,
          995,
          999.1,
          1000.5,
          991.2,
          1008.1,
          970,
          975,
          998.5,
          1004.1,
          1005,
          1011.75,
          1018.05,
          1031.35,
          1035.5,
          1088.4,
          1088.45,
          1112.1,
          1135.55,
          1131.1,
          1092.5,
          1096.9,
          1115.3,
          1110,
          1135,
          1123.8,
          1120.15,
          1103.15,
          1077.15,
          1070.05,
          1060.1,
          1052.35,
          1051.1,
          1057.5,
          1066.8,
          1099,
          1091.7,
          1121.15,
          1078,
          1087,
          1113.75,
          1117,
          1131.1,
          1112.65,
          1101.45,
          1093.8,
          1091.1,
          1101.95,
          1133.35,
          1111.25,
          1098.3,
          1091,
          1105.05,
          1121,
          1122.7,
          1115,
          1136,
          1145,
          1157,
          1150,
          1155.25,
          1148.2,
          1152,
          1153.6,
          1156.2,
          1175.6,
          1152.05,
          1176.1,
          1230.55,
          1226,
          1236,
          1235,
          1238.15,
          1239,
          1255.8
         ],
         "open": [
          692.5,
          698.75,
          700.5,
          710.7,
          702,
          707,
          707.65,
          720,
          715,
          712,
          675.8,
          693,
          702,
          699.9,
          708.2,
          709,
          707.1,
          695.7,
          716.9,
          704.85,
          710.2,
          735.4,
          732.8,
          737.25,
          737.35,
          755,
          765.2,
          769.4,
          784.9,
          780,
          773.5,
          788,
          792.95,
          799,
          900.1,
          911,
          908.5,
          945,
          938.95,
          915.65,
          903.25,
          921.55,
          946,
          953.25,
          962,
          969.25,
          960,
          960.45,
          952,
          953.5,
          969.45,
          948.9,
          949.9,
          948,
          954.8,
          955.85,
          954.1,
          963.9,
          970.9,
          958.9,
          963.05,
          947,
          947.5,
          941.25,
          960,
          951.45,
          935.25,
          926.25,
          915,
          926.5,
          915,
          918.9,
          929.95,
          935,
          935.3,
          934.9,
          957,
          979.5,
          986,
          995,
          1011,
          1001,
          1009,
          1020.15,
          1003,
          975.8,
          1014.8,
          1018,
          1009,
          1020.6,
          1018.05,
          1055,
          1044.9,
          1090,
          1095.1,
          1123,
          1135.55,
          1162,
          1180,
          1113.85,
          1135,
          1118.9,
          1141.15,
          1142,
          1133,
          1122.25,
          1105.7,
          1095.5,
          1070,
          1072,
          1065,
          1072,
          1068,
          1109.9,
          1108,
          1129.3,
          1113.85,
          1096,
          1128.1,
          1120,
          1137,
          1144.75,
          1128.5,
          1100,
          1106,
          1105,
          1145,
          1137,
          1119.95,
          1118,
          1105.05,
          1134,
          1147,
          1125,
          1147.3,
          1145,
          1168.05,
          1157.4,
          1159.7,
          1169.4,
          1156,
          1160,
          1165.9,
          1182.85,
          1188,
          1182,
          1238,
          1249.9,
          1238.45,
          1235,
          1253,
          1243,
          1257.9
         ],
         "type": "candlestick",
         "x": [
          "2020-05-29",
          "2020-06-01",
          "2020-06-02",
          "2020-06-03",
          "2020-06-04",
          "2020-06-05",
          "2020-06-08",
          "2020-06-09",
          "2020-06-10",
          "2020-06-11",
          "2020-06-12",
          "2020-06-15",
          "2020-06-16",
          "2020-06-17",
          "2020-06-18",
          "2020-06-19",
          "2020-06-22",
          "2020-06-23",
          "2020-06-24",
          "2020-06-25",
          "2020-06-26",
          "2020-06-29",
          "2020-06-30",
          "2020-07-01",
          "2020-07-02",
          "2020-07-03",
          "2020-07-06",
          "2020-07-07",
          "2020-07-08",
          "2020-07-09",
          "2020-07-10",
          "2020-07-13",
          "2020-07-14",
          "2020-07-15",
          "2020-07-16",
          "2020-07-17",
          "2020-07-20",
          "2020-07-21",
          "2020-07-22",
          "2020-07-23",
          "2020-07-24",
          "2020-07-27",
          "2020-07-28",
          "2020-07-29",
          "2020-07-30",
          "2020-07-31",
          "2020-08-03",
          "2020-08-04",
          "2020-08-05",
          "2020-08-06",
          "2020-08-07",
          "2020-08-10",
          "2020-08-11",
          "2020-08-12",
          "2020-08-13",
          "2020-08-14",
          "2020-08-17",
          "2020-08-18",
          "2020-08-19",
          "2020-08-20",
          "2020-08-21",
          "2020-08-24",
          "2020-08-25",
          "2020-08-26",
          "2020-08-27",
          "2020-08-28",
          "2020-08-31",
          "2020-09-01",
          "2020-09-02",
          "2020-09-03",
          "2020-09-04",
          "2020-09-07",
          "2020-09-08",
          "2020-09-09",
          "2020-09-10",
          "2020-09-11",
          "2020-09-14",
          "2020-09-15",
          "2020-09-16",
          "2020-09-17",
          "2020-09-18",
          "2020-09-21",
          "2020-09-22",
          "2020-09-23",
          "2020-09-24",
          "2020-09-25",
          "2020-09-28",
          "2020-09-29",
          "2020-09-30",
          "2020-10-01",
          "2020-10-05",
          "2020-10-06",
          "2020-10-07",
          "2020-10-08",
          "2020-10-09",
          "2020-10-12",
          "2020-10-13",
          "2020-10-14",
          "2020-10-15",
          "2020-10-16",
          "2020-10-19",
          "2020-10-20",
          "2020-10-21",
          "2020-10-22",
          "2020-10-23",
          "2020-10-26",
          "2020-10-27",
          "2020-10-28",
          "2020-10-29",
          "2020-10-30",
          "2020-11-02",
          "2020-11-03",
          "2020-11-04",
          "2020-11-05",
          "2020-11-06",
          "2020-11-09",
          "2020-11-10",
          "2020-11-11",
          "2020-11-12",
          "2020-11-13",
          "2020-11-14",
          "2020-11-17",
          "2020-11-18",
          "2020-11-19",
          "2020-11-20",
          "2020-11-23",
          "2020-11-24",
          "2020-11-25",
          "2020-11-26",
          "2020-11-27",
          "2020-12-01",
          "2020-12-02",
          "2020-12-03",
          "2020-12-04",
          "2020-12-07",
          "2020-12-08",
          "2020-12-09",
          "2020-12-10",
          "2020-12-11",
          "2020-12-14",
          "2020-12-15",
          "2020-12-16",
          "2020-12-17",
          "2020-12-18",
          "2020-12-21",
          "2020-12-22",
          "2020-12-23",
          "2020-12-24",
          "2020-12-28",
          "2020-12-29",
          "2020-12-30",
          "2020-12-31",
          "2021-01-01"
         ]
        }
       ],
       "layout": {
        "template": {
         "data": {
          "bar": [
           {
            "error_x": {
             "color": "#2a3f5f"
            },
            "error_y": {
             "color": "#2a3f5f"
            },
            "marker": {
             "line": {
              "color": "#E5ECF6",
              "width": 0.5
             }
            },
            "type": "bar"
           }
          ],
          "barpolar": [
           {
            "marker": {
             "line": {
              "color": "#E5ECF6",
              "width": 0.5
             }
            },
            "type": "barpolar"
           }
          ],
          "carpet": [
           {
            "aaxis": {
             "endlinecolor": "#2a3f5f",
             "gridcolor": "white",
             "linecolor": "white",
             "minorgridcolor": "white",
             "startlinecolor": "#2a3f5f"
            },
            "baxis": {
             "endlinecolor": "#2a3f5f",
             "gridcolor": "white",
             "linecolor": "white",
             "minorgridcolor": "white",
             "startlinecolor": "#2a3f5f"
            },
            "type": "carpet"
           }
          ],
          "choropleth": [
           {
            "colorbar": {
             "outlinewidth": 0,
             "ticks": ""
            },
            "type": "choropleth"
           }
          ],
          "contour": [
           {
            "colorbar": {
             "outlinewidth": 0,
             "ticks": ""
            },
            "colorscale": [
             [
              0,
              "#0d0887"
             ],
             [
              0.1111111111111111,
              "#46039f"
             ],
             [
              0.2222222222222222,
              "#7201a8"
             ],
             [
              0.3333333333333333,
              "#9c179e"
             ],
             [
              0.4444444444444444,
              "#bd3786"
             ],
             [
              0.5555555555555556,
              "#d8576b"
             ],
             [
              0.6666666666666666,
              "#ed7953"
             ],
             [
              0.7777777777777778,
              "#fb9f3a"
             ],
             [
              0.8888888888888888,
              "#fdca26"
             ],
             [
              1,
              "#f0f921"
             ]
            ],
            "type": "contour"
           }
          ],
          "contourcarpet": [
           {
            "colorbar": {
             "outlinewidth": 0,
             "ticks": ""
            },
            "type": "contourcarpet"
           }
          ],
          "heatmap": [
           {
            "colorbar": {
             "outlinewidth": 0,
             "ticks": ""
            },
            "colorscale": [
             [
              0,
              "#0d0887"
             ],
             [
              0.1111111111111111,
              "#46039f"
             ],
             [
              0.2222222222222222,
              "#7201a8"
             ],
             [
              0.3333333333333333,
              "#9c179e"
             ],
             [
              0.4444444444444444,
              "#bd3786"
             ],
             [
              0.5555555555555556,
              "#d8576b"
             ],
             [
              0.6666666666666666,
              "#ed7953"
             ],
             [
              0.7777777777777778,
              "#fb9f3a"
             ],
             [
              0.8888888888888888,
              "#fdca26"
             ],
             [
              1,
              "#f0f921"
             ]
            ],
            "type": "heatmap"
           }
          ],
          "heatmapgl": [
           {
            "colorbar": {
             "outlinewidth": 0,
             "ticks": ""
            },
            "colorscale": [
             [
              0,
              "#0d0887"
             ],
             [
              0.1111111111111111,
              "#46039f"
             ],
             [
              0.2222222222222222,
              "#7201a8"
             ],
             [
              0.3333333333333333,
              "#9c179e"
             ],
             [
              0.4444444444444444,
              "#bd3786"
             ],
             [
              0.5555555555555556,
              "#d8576b"
             ],
             [
              0.6666666666666666,
              "#ed7953"
             ],
             [
              0.7777777777777778,
              "#fb9f3a"
             ],
             [
              0.8888888888888888,
              "#fdca26"
             ],
             [
              1,
              "#f0f921"
             ]
            ],
            "type": "heatmapgl"
           }
          ],
          "histogram": [
           {
            "marker": {
             "colorbar": {
              "outlinewidth": 0,
              "ticks": ""
             }
            },
            "type": "histogram"
           }
          ],
          "histogram2d": [
           {
            "colorbar": {
             "outlinewidth": 0,
             "ticks": ""
            },
            "colorscale": [
             [
              0,
              "#0d0887"
             ],
             [
              0.1111111111111111,
              "#46039f"
             ],
             [
              0.2222222222222222,
              "#7201a8"
             ],
             [
              0.3333333333333333,
              "#9c179e"
             ],
             [
              0.4444444444444444,
              "#bd3786"
             ],
             [
              0.5555555555555556,
              "#d8576b"
             ],
             [
              0.6666666666666666,
              "#ed7953"
             ],
             [
              0.7777777777777778,
              "#fb9f3a"
             ],
             [
              0.8888888888888888,
              "#fdca26"
             ],
             [
              1,
              "#f0f921"
             ]
            ],
            "type": "histogram2d"
           }
          ],
          "histogram2dcontour": [
           {
            "colorbar": {
             "outlinewidth": 0,
             "ticks": ""
            },
            "colorscale": [
             [
              0,
              "#0d0887"
             ],
             [
              0.1111111111111111,
              "#46039f"
             ],
             [
              0.2222222222222222,
              "#7201a8"
             ],
             [
              0.3333333333333333,
              "#9c179e"
             ],
             [
              0.4444444444444444,
              "#bd3786"
             ],
             [
              0.5555555555555556,
              "#d8576b"
             ],
             [
              0.6666666666666666,
              "#ed7953"
             ],
             [
              0.7777777777777778,
              "#fb9f3a"
             ],
             [
              0.8888888888888888,
              "#fdca26"
             ],
             [
              1,
              "#f0f921"
             ]
            ],
            "type": "histogram2dcontour"
           }
          ],
          "mesh3d": [
           {
            "colorbar": {
             "outlinewidth": 0,
             "ticks": ""
            },
            "type": "mesh3d"
           }
          ],
          "parcoords": [
           {
            "line": {
             "colorbar": {
              "outlinewidth": 0,
              "ticks": ""
             }
            },
            "type": "parcoords"
           }
          ],
          "pie": [
           {
            "automargin": true,
            "type": "pie"
           }
          ],
          "scatter": [
           {
            "marker": {
             "colorbar": {
              "outlinewidth": 0,
              "ticks": ""
             }
            },
            "type": "scatter"
           }
          ],
          "scatter3d": [
           {
            "line": {
             "colorbar": {
              "outlinewidth": 0,
              "ticks": ""
             }
            },
            "marker": {
             "colorbar": {
              "outlinewidth": 0,
              "ticks": ""
             }
            },
            "type": "scatter3d"
           }
          ],
          "scattercarpet": [
           {
            "marker": {
             "colorbar": {
              "outlinewidth": 0,
              "ticks": ""
             }
            },
            "type": "scattercarpet"
           }
          ],
          "scattergeo": [
           {
            "marker": {
             "colorbar": {
              "outlinewidth": 0,
              "ticks": ""
             }
            },
            "type": "scattergeo"
           }
          ],
          "scattergl": [
           {
            "marker": {
             "colorbar": {
              "outlinewidth": 0,
              "ticks": ""
             }
            },
            "type": "scattergl"
           }
          ],
          "scattermapbox": [
           {
            "marker": {
             "colorbar": {
              "outlinewidth": 0,
              "ticks": ""
             }
            },
            "type": "scattermapbox"
           }
          ],
          "scatterpolar": [
           {
            "marker": {
             "colorbar": {
              "outlinewidth": 0,
              "ticks": ""
             }
            },
            "type": "scatterpolar"
           }
          ],
          "scatterpolargl": [
           {
            "marker": {
             "colorbar": {
              "outlinewidth": 0,
              "ticks": ""
             }
            },
            "type": "scatterpolargl"
           }
          ],
          "scatterternary": [
           {
            "marker": {
             "colorbar": {
              "outlinewidth": 0,
              "ticks": ""
             }
            },
            "type": "scatterternary"
           }
          ],
          "surface": [
           {
            "colorbar": {
             "outlinewidth": 0,
             "ticks": ""
            },
            "colorscale": [
             [
              0,
              "#0d0887"
             ],
             [
              0.1111111111111111,
              "#46039f"
             ],
             [
              0.2222222222222222,
              "#7201a8"
             ],
             [
              0.3333333333333333,
              "#9c179e"
             ],
             [
              0.4444444444444444,
              "#bd3786"
             ],
             [
              0.5555555555555556,
              "#d8576b"
             ],
             [
              0.6666666666666666,
              "#ed7953"
             ],
             [
              0.7777777777777778,
              "#fb9f3a"
             ],
             [
              0.8888888888888888,
              "#fdca26"
             ],
             [
              1,
              "#f0f921"
             ]
            ],
            "type": "surface"
           }
          ],
          "table": [
           {
            "cells": {
             "fill": {
              "color": "#EBF0F8"
             },
             "line": {
              "color": "white"
             }
            },
            "header": {
             "fill": {
              "color": "#C8D4E3"
             },
             "line": {
              "color": "white"
             }
            },
            "type": "table"
           }
          ]
         },
         "layout": {
          "annotationdefaults": {
           "arrowcolor": "#2a3f5f",
           "arrowhead": 0,
           "arrowwidth": 1
          },
          "coloraxis": {
           "colorbar": {
            "outlinewidth": 0,
            "ticks": ""
           }
          },
          "colorscale": {
           "diverging": [
            [
             0,
             "#8e0152"
            ],
            [
             0.1,
             "#c51b7d"
            ],
            [
             0.2,
             "#de77ae"
            ],
            [
             0.3,
             "#f1b6da"
            ],
            [
             0.4,
             "#fde0ef"
            ],
            [
             0.5,
             "#f7f7f7"
            ],
            [
             0.6,
             "#e6f5d0"
            ],
            [
             0.7,
             "#b8e186"
            ],
            [
             0.8,
             "#7fbc41"
            ],
            [
             0.9,
             "#4d9221"
            ],
            [
             1,
             "#276419"
            ]
           ],
           "sequential": [
            [
             0,
             "#0d0887"
            ],
            [
             0.1111111111111111,
             "#46039f"
            ],
            [
             0.2222222222222222,
             "#7201a8"
            ],
            [
             0.3333333333333333,
             "#9c179e"
            ],
            [
             0.4444444444444444,
             "#bd3786"
            ],
            [
             0.5555555555555556,
             "#d8576b"
            ],
            [
             0.6666666666666666,
             "#ed7953"
            ],
            [
             0.7777777777777778,
             "#fb9f3a"
            ],
            [
             0.8888888888888888,
             "#fdca26"
            ],
            [
             1,
             "#f0f921"
            ]
           ],
           "sequentialminus": [
            [
             0,
             "#0d0887"
            ],
            [
             0.1111111111111111,
             "#46039f"
            ],
            [
             0.2222222222222222,
             "#7201a8"
            ],
            [
             0.3333333333333333,
             "#9c179e"
            ],
            [
             0.4444444444444444,
             "#bd3786"
            ],
            [
             0.5555555555555556,
             "#d8576b"
            ],
            [
             0.6666666666666666,
             "#ed7953"
            ],
            [
             0.7777777777777778,
             "#fb9f3a"
            ],
            [
             0.8888888888888888,
             "#fdca26"
            ],
            [
             1,
             "#f0f921"
            ]
           ]
          },
          "colorway": [
           "#636efa",
           "#EF553B",
           "#00cc96",
           "#ab63fa",
           "#FFA15A",
           "#19d3f3",
           "#FF6692",
           "#B6E880",
           "#FF97FF",
           "#FECB52"
          ],
          "font": {
           "color": "#2a3f5f"
          },
          "geo": {
           "bgcolor": "white",
           "lakecolor": "white",
           "landcolor": "#E5ECF6",
           "showlakes": true,
           "showland": true,
           "subunitcolor": "white"
          },
          "hoverlabel": {
           "align": "left"
          },
          "hovermode": "closest",
          "mapbox": {
           "style": "light"
          },
          "paper_bgcolor": "white",
          "plot_bgcolor": "#E5ECF6",
          "polar": {
           "angularaxis": {
            "gridcolor": "white",
            "linecolor": "white",
            "ticks": ""
           },
           "bgcolor": "#E5ECF6",
           "radialaxis": {
            "gridcolor": "white",
            "linecolor": "white",
            "ticks": ""
           }
          },
          "scene": {
           "xaxis": {
            "backgroundcolor": "#E5ECF6",
            "gridcolor": "white",
            "gridwidth": 2,
            "linecolor": "white",
            "showbackground": true,
            "ticks": "",
            "zerolinecolor": "white"
           },
           "yaxis": {
            "backgroundcolor": "#E5ECF6",
            "gridcolor": "white",
            "gridwidth": 2,
            "linecolor": "white",
            "showbackground": true,
            "ticks": "",
            "zerolinecolor": "white"
           },
           "zaxis": {
            "backgroundcolor": "#E5ECF6",
            "gridcolor": "white",
            "gridwidth": 2,
            "linecolor": "white",
            "showbackground": true,
            "ticks": "",
            "zerolinecolor": "white"
           }
          },
          "shapedefaults": {
           "line": {
            "color": "#2a3f5f"
           }
          },
          "ternary": {
           "aaxis": {
            "gridcolor": "white",
            "linecolor": "white",
            "ticks": ""
           },
           "baxis": {
            "gridcolor": "white",
            "linecolor": "white",
            "ticks": ""
           },
           "bgcolor": "#E5ECF6",
           "caxis": {
            "gridcolor": "white",
            "linecolor": "white",
            "ticks": ""
           }
          },
          "title": {
           "x": 0.05
          },
          "xaxis": {
           "automargin": true,
           "gridcolor": "white",
           "linecolor": "white",
           "ticks": "",
           "title": {
            "standoff": 15
           },
           "zerolinecolor": "white",
           "zerolinewidth": 2
          },
          "yaxis": {
           "automargin": true,
           "gridcolor": "white",
           "linecolor": "white",
           "ticks": "",
           "title": {
            "standoff": 15
           },
           "zerolinecolor": "white",
           "zerolinewidth": 2
          }
         }
        },
        "title": {
         "text": "Infy Candles july 2020 till date"
        },
        "xaxis": {
         "rangeslider": {
          "visible": false
         }
        }
       }
      },
      "text/html": [
       "<div>\n",
       "        \n",
       "        \n",
       "            <div id=\"59408caf-83a7-409b-9508-691baf3350d7\" class=\"plotly-graph-div\" style=\"height:525px; width:100%;\"></div>\n",
       "            <script type=\"text/javascript\">\n",
       "                require([\"plotly\"], function(Plotly) {\n",
       "                    window.PLOTLYENV=window.PLOTLYENV || {};\n",
       "                    \n",
       "                if (document.getElementById(\"59408caf-83a7-409b-9508-691baf3350d7\")) {\n",
       "                    Plotly.newPlot(\n",
       "                        '59408caf-83a7-409b-9508-691baf3350d7',\n",
       "                        [{\"close\": [691.0, 699.55, 708.1, 701.55, 707.75, 703.55, 720.85, 717.6, 715.85, 703.95, 692.05, 687.55, 701.2, 703.65, 713.9, 705.55, 703.7, 720.65, 714.15, 700.5, 748.2, 731.75, 735.95, 731.9, 756.6, 762.7, 764.0, 794.15, 774.7, 781.7, 781.85, 797.05, 783.25, 830.95, 911.0, 903.15, 934.3, 936.75, 917.9, 907.95, 922.85, 948.45, 962.85, 954.15, 961.45, 966.0, 956.9, 949.85, 944.7, 970.85, 950.9, 951.35, 948.45, 954.95, 951.2, 953.6, 957.5, 967.55, 959.3, 955.15, 948.8, 947.4, 938.1, 950.8, 947.05, 935.25, 928.6, 914.15, 924.0, 935.55, 919.15, 925.05, 939.3, 927.75, 940.05, 945.7, 978.4, 982.45, 1001.75, 1011.0, 1002.15, 1009.9, 1007.5, 1019.75, 975.4, 1011.45, 1010.4, 1009.0, 1008.25, 1017.65, 1048.7, 1055.75, 1066.55, 1093.7, 1106.8, 1132.1, 1157.8, 1137.0, 1108.25, 1127.5, 1125.9, 1137.5, 1148.35, 1129.05, 1122.5, 1112.45, 1090.85, 1076.55, 1074.85, 1060.6, 1072.3, 1062.55, 1093.95, 1104.0, 1112.75, 1136.55, 1091.05, 1122.5, 1117.75, 1124.2, 1133.45, 1123.7, 1110.55, 1096.75, 1103.35, 1139.85, 1140.05, 1115.65, 1113.2, 1100.0, 1137.85, 1140.9, 1126.45, 1134.65, 1143.5, 1153.35, 1175.2, 1167.75, 1163.2, 1164.55, 1154.6, 1165.7, 1159.2, 1189.8, 1177.3, 1220.5, 1253.05, 1236.05, 1240.3, 1250.3, 1246.8, 1255.8, 1260.45], \"high\": [700.8, 706.65, 711.65, 711.9, 709.45, 711.7, 725.8, 729.6, 719.45, 713.4, 695.15, 704.4, 712.0, 710.3, 716.6, 711.9, 708.7, 724.5, 726.8, 705.6, 751.6, 744.7, 738.95, 742.3, 765.45, 764.0, 775.0, 796.95, 784.9, 790.0, 789.9, 805.35, 806.4, 848.45, 955.5, 919.9, 945.0, 949.7, 939.0, 915.8, 925.75, 952.8, 967.55, 960.0, 972.65, 986.45, 965.4, 970.7, 960.95, 974.4, 969.45, 956.8, 962.0, 958.8, 968.5, 963.0, 972.45, 969.2, 971.55, 965.5, 963.45, 952.0, 948.65, 954.25, 960.95, 952.5, 950.5, 935.0, 926.4, 949.4, 929.5, 927.55, 952.0, 946.0, 942.0, 954.15, 991.05, 994.0, 1005.65, 1021.0, 1018.8, 1031.0, 1022.5, 1037.0, 1009.0, 1014.9, 1016.15, 1028.0, 1023.95, 1026.5, 1054.9, 1060.0, 1072.0, 1124.0, 1113.3, 1140.0, 1166.05, 1164.9, 1186.0, 1135.95, 1139.0, 1144.7, 1154.35, 1158.0, 1135.0, 1129.6, 1109.7, 1104.75, 1082.0, 1083.6, 1079.95, 1079.4, 1116.0, 1123.0, 1121.1, 1146.0, 1113.85, 1126.35, 1142.0, 1133.0, 1139.65, 1145.0, 1132.7, 1114.7, 1109.0, 1144.8, 1154.9, 1143.5, 1119.95, 1121.0, 1140.25, 1147.45, 1147.0, 1137.0, 1153.0, 1167.0, 1179.5, 1171.65, 1171.95, 1172.6, 1163.7, 1168.9, 1168.9, 1195.0, 1209.75, 1223.85, 1258.85, 1249.9, 1248.0, 1254.45, 1253.3, 1258.4, 1265.5], \"low\": [674.95, 691.5, 697.55, 696.0, 697.5, 700.6, 704.0, 715.05, 709.2, 700.25, 675.5, 685.25, 699.15, 698.0, 706.0, 701.0, 700.0, 692.1, 709.4, 693.5, 710.0, 730.1, 724.25, 729.75, 735.4, 752.5, 761.5, 765.55, 772.2, 775.0, 773.5, 786.05, 781.35, 794.8, 894.25, 892.15, 906.75, 929.2, 910.0, 900.65, 903.25, 918.65, 941.2, 943.6, 958.75, 953.3, 947.45, 940.55, 938.3, 942.5, 949.0, 945.3, 946.1, 942.2, 948.25, 952.05, 954.1, 958.7, 957.45, 951.3, 946.55, 939.2, 933.6, 938.4, 945.2, 933.05, 914.6, 912.1, 913.5, 924.0, 914.45, 913.05, 925.55, 926.0, 924.8, 931.0, 948.3, 971.65, 982.0, 995.0, 999.1, 1000.5, 991.2, 1008.1, 970.0, 975.0, 998.5, 1004.1, 1005.0, 1011.75, 1018.05, 1031.35, 1035.5, 1088.4, 1088.45, 1112.1, 1135.55, 1131.1, 1092.5, 1096.9, 1115.3, 1110.0, 1135.0, 1123.8, 1120.15, 1103.15, 1077.15, 1070.05, 1060.1, 1052.35, 1051.1, 1057.5, 1066.8, 1099.0, 1091.7, 1121.15, 1078.0, 1087.0, 1113.75, 1117.0, 1131.1, 1112.65, 1101.45, 1093.8, 1091.1, 1101.95, 1133.35, 1111.25, 1098.3, 1091.0, 1105.05, 1121.0, 1122.7, 1115.0, 1136.0, 1145.0, 1157.0, 1150.0, 1155.25, 1148.2, 1152.0, 1153.6, 1156.2, 1175.6, 1152.05, 1176.1, 1230.55, 1226.0, 1236.0, 1235.0, 1238.15, 1239.0, 1255.8], \"open\": [692.5, 698.75, 700.5, 710.7, 702.0, 707.0, 707.65, 720.0, 715.0, 712.0, 675.8, 693.0, 702.0, 699.9, 708.2, 709.0, 707.1, 695.7, 716.9, 704.85, 710.2, 735.4, 732.8, 737.25, 737.35, 755.0, 765.2, 769.4, 784.9, 780.0, 773.5, 788.0, 792.95, 799.0, 900.1, 911.0, 908.5, 945.0, 938.95, 915.65, 903.25, 921.55, 946.0, 953.25, 962.0, 969.25, 960.0, 960.45, 952.0, 953.5, 969.45, 948.9, 949.9, 948.0, 954.8, 955.85, 954.1, 963.9, 970.9, 958.9, 963.05, 947.0, 947.5, 941.25, 960.0, 951.45, 935.25, 926.25, 915.0, 926.5, 915.0, 918.9, 929.95, 935.0, 935.3, 934.9, 957.0, 979.5, 986.0, 995.0, 1011.0, 1001.0, 1009.0, 1020.15, 1003.0, 975.8, 1014.8, 1018.0, 1009.0, 1020.6, 1018.05, 1055.0, 1044.9, 1090.0, 1095.1, 1123.0, 1135.55, 1162.0, 1180.0, 1113.85, 1135.0, 1118.9, 1141.15, 1142.0, 1133.0, 1122.25, 1105.7, 1095.5, 1070.0, 1072.0, 1065.0, 1072.0, 1068.0, 1109.9, 1108.0, 1129.3, 1113.85, 1096.0, 1128.1, 1120.0, 1137.0, 1144.75, 1128.5, 1100.0, 1106.0, 1105.0, 1145.0, 1137.0, 1119.95, 1118.0, 1105.05, 1134.0, 1147.0, 1125.0, 1147.3, 1145.0, 1168.05, 1157.4, 1159.7, 1169.4, 1156.0, 1160.0, 1165.9, 1182.85, 1188.0, 1182.0, 1238.0, 1249.9, 1238.45, 1235.0, 1253.0, 1243.0, 1257.9], \"type\": \"candlestick\", \"x\": [\"2020-05-29\", \"2020-06-01\", \"2020-06-02\", \"2020-06-03\", \"2020-06-04\", \"2020-06-05\", \"2020-06-08\", \"2020-06-09\", \"2020-06-10\", \"2020-06-11\", \"2020-06-12\", \"2020-06-15\", \"2020-06-16\", \"2020-06-17\", \"2020-06-18\", \"2020-06-19\", \"2020-06-22\", \"2020-06-23\", \"2020-06-24\", \"2020-06-25\", \"2020-06-26\", \"2020-06-29\", \"2020-06-30\", \"2020-07-01\", \"2020-07-02\", \"2020-07-03\", \"2020-07-06\", \"2020-07-07\", \"2020-07-08\", \"2020-07-09\", \"2020-07-10\", \"2020-07-13\", \"2020-07-14\", \"2020-07-15\", \"2020-07-16\", \"2020-07-17\", \"2020-07-20\", \"2020-07-21\", \"2020-07-22\", \"2020-07-23\", \"2020-07-24\", \"2020-07-27\", \"2020-07-28\", \"2020-07-29\", \"2020-07-30\", \"2020-07-31\", \"2020-08-03\", \"2020-08-04\", \"2020-08-05\", \"2020-08-06\", \"2020-08-07\", \"2020-08-10\", \"2020-08-11\", \"2020-08-12\", \"2020-08-13\", \"2020-08-14\", \"2020-08-17\", \"2020-08-18\", \"2020-08-19\", \"2020-08-20\", \"2020-08-21\", \"2020-08-24\", \"2020-08-25\", \"2020-08-26\", \"2020-08-27\", \"2020-08-28\", \"2020-08-31\", \"2020-09-01\", \"2020-09-02\", \"2020-09-03\", \"2020-09-04\", \"2020-09-07\", \"2020-09-08\", \"2020-09-09\", \"2020-09-10\", \"2020-09-11\", \"2020-09-14\", \"2020-09-15\", \"2020-09-16\", \"2020-09-17\", \"2020-09-18\", \"2020-09-21\", \"2020-09-22\", \"2020-09-23\", \"2020-09-24\", \"2020-09-25\", \"2020-09-28\", \"2020-09-29\", \"2020-09-30\", \"2020-10-01\", \"2020-10-05\", \"2020-10-06\", \"2020-10-07\", \"2020-10-08\", \"2020-10-09\", \"2020-10-12\", \"2020-10-13\", \"2020-10-14\", \"2020-10-15\", \"2020-10-16\", \"2020-10-19\", \"2020-10-20\", \"2020-10-21\", \"2020-10-22\", \"2020-10-23\", \"2020-10-26\", \"2020-10-27\", \"2020-10-28\", \"2020-10-29\", \"2020-10-30\", \"2020-11-02\", \"2020-11-03\", \"2020-11-04\", \"2020-11-05\", \"2020-11-06\", \"2020-11-09\", \"2020-11-10\", \"2020-11-11\", \"2020-11-12\", \"2020-11-13\", \"2020-11-14\", \"2020-11-17\", \"2020-11-18\", \"2020-11-19\", \"2020-11-20\", \"2020-11-23\", \"2020-11-24\", \"2020-11-25\", \"2020-11-26\", \"2020-11-27\", \"2020-12-01\", \"2020-12-02\", \"2020-12-03\", \"2020-12-04\", \"2020-12-07\", \"2020-12-08\", \"2020-12-09\", \"2020-12-10\", \"2020-12-11\", \"2020-12-14\", \"2020-12-15\", \"2020-12-16\", \"2020-12-17\", \"2020-12-18\", \"2020-12-21\", \"2020-12-22\", \"2020-12-23\", \"2020-12-24\", \"2020-12-28\", \"2020-12-29\", \"2020-12-30\", \"2020-12-31\", \"2021-01-01\"]}],\n",
       "                        {\"template\": {\"data\": {\"bar\": [{\"error_x\": {\"color\": \"#2a3f5f\"}, \"error_y\": {\"color\": \"#2a3f5f\"}, \"marker\": {\"line\": {\"color\": \"#E5ECF6\", \"width\": 0.5}}, \"type\": \"bar\"}], \"barpolar\": [{\"marker\": {\"line\": {\"color\": \"#E5ECF6\", \"width\": 0.5}}, \"type\": \"barpolar\"}], \"carpet\": [{\"aaxis\": {\"endlinecolor\": \"#2a3f5f\", \"gridcolor\": \"white\", \"linecolor\": \"white\", \"minorgridcolor\": \"white\", \"startlinecolor\": \"#2a3f5f\"}, \"baxis\": {\"endlinecolor\": \"#2a3f5f\", \"gridcolor\": \"white\", \"linecolor\": \"white\", \"minorgridcolor\": \"white\", \"startlinecolor\": \"#2a3f5f\"}, \"type\": \"carpet\"}], \"choropleth\": [{\"colorbar\": {\"outlinewidth\": 0, \"ticks\": \"\"}, \"type\": \"choropleth\"}], \"contour\": [{\"colorbar\": {\"outlinewidth\": 0, \"ticks\": \"\"}, \"colorscale\": [[0.0, \"#0d0887\"], [0.1111111111111111, \"#46039f\"], [0.2222222222222222, \"#7201a8\"], [0.3333333333333333, \"#9c179e\"], [0.4444444444444444, \"#bd3786\"], [0.5555555555555556, \"#d8576b\"], [0.6666666666666666, \"#ed7953\"], [0.7777777777777778, \"#fb9f3a\"], [0.8888888888888888, \"#fdca26\"], [1.0, \"#f0f921\"]], \"type\": \"contour\"}], \"contourcarpet\": [{\"colorbar\": {\"outlinewidth\": 0, \"ticks\": \"\"}, \"type\": \"contourcarpet\"}], \"heatmap\": [{\"colorbar\": {\"outlinewidth\": 0, \"ticks\": \"\"}, \"colorscale\": [[0.0, \"#0d0887\"], [0.1111111111111111, \"#46039f\"], [0.2222222222222222, \"#7201a8\"], [0.3333333333333333, \"#9c179e\"], [0.4444444444444444, \"#bd3786\"], [0.5555555555555556, \"#d8576b\"], [0.6666666666666666, \"#ed7953\"], [0.7777777777777778, \"#fb9f3a\"], [0.8888888888888888, \"#fdca26\"], [1.0, \"#f0f921\"]], \"type\": \"heatmap\"}], \"heatmapgl\": [{\"colorbar\": {\"outlinewidth\": 0, \"ticks\": \"\"}, \"colorscale\": [[0.0, \"#0d0887\"], [0.1111111111111111, \"#46039f\"], [0.2222222222222222, \"#7201a8\"], [0.3333333333333333, \"#9c179e\"], [0.4444444444444444, \"#bd3786\"], [0.5555555555555556, \"#d8576b\"], [0.6666666666666666, \"#ed7953\"], [0.7777777777777778, \"#fb9f3a\"], [0.8888888888888888, \"#fdca26\"], [1.0, \"#f0f921\"]], \"type\": \"heatmapgl\"}], \"histogram\": [{\"marker\": {\"colorbar\": {\"outlinewidth\": 0, \"ticks\": \"\"}}, \"type\": \"histogram\"}], \"histogram2d\": [{\"colorbar\": {\"outlinewidth\": 0, \"ticks\": \"\"}, \"colorscale\": [[0.0, \"#0d0887\"], [0.1111111111111111, \"#46039f\"], [0.2222222222222222, \"#7201a8\"], [0.3333333333333333, \"#9c179e\"], [0.4444444444444444, \"#bd3786\"], [0.5555555555555556, \"#d8576b\"], [0.6666666666666666, \"#ed7953\"], [0.7777777777777778, \"#fb9f3a\"], [0.8888888888888888, \"#fdca26\"], [1.0, \"#f0f921\"]], \"type\": \"histogram2d\"}], \"histogram2dcontour\": [{\"colorbar\": {\"outlinewidth\": 0, \"ticks\": \"\"}, \"colorscale\": [[0.0, \"#0d0887\"], [0.1111111111111111, \"#46039f\"], [0.2222222222222222, \"#7201a8\"], [0.3333333333333333, \"#9c179e\"], [0.4444444444444444, \"#bd3786\"], [0.5555555555555556, \"#d8576b\"], [0.6666666666666666, \"#ed7953\"], [0.7777777777777778, \"#fb9f3a\"], [0.8888888888888888, \"#fdca26\"], [1.0, \"#f0f921\"]], \"type\": \"histogram2dcontour\"}], \"mesh3d\": [{\"colorbar\": {\"outlinewidth\": 0, \"ticks\": \"\"}, \"type\": \"mesh3d\"}], \"parcoords\": [{\"line\": {\"colorbar\": {\"outlinewidth\": 0, \"ticks\": \"\"}}, \"type\": \"parcoords\"}], \"pie\": [{\"automargin\": true, \"type\": \"pie\"}], \"scatter\": [{\"marker\": {\"colorbar\": {\"outlinewidth\": 0, \"ticks\": \"\"}}, \"type\": \"scatter\"}], \"scatter3d\": [{\"line\": {\"colorbar\": {\"outlinewidth\": 0, \"ticks\": \"\"}}, \"marker\": {\"colorbar\": {\"outlinewidth\": 0, \"ticks\": \"\"}}, \"type\": \"scatter3d\"}], \"scattercarpet\": [{\"marker\": {\"colorbar\": {\"outlinewidth\": 0, \"ticks\": \"\"}}, \"type\": \"scattercarpet\"}], \"scattergeo\": [{\"marker\": {\"colorbar\": {\"outlinewidth\": 0, \"ticks\": \"\"}}, \"type\": \"scattergeo\"}], \"scattergl\": [{\"marker\": {\"colorbar\": {\"outlinewidth\": 0, \"ticks\": \"\"}}, \"type\": \"scattergl\"}], \"scattermapbox\": [{\"marker\": {\"colorbar\": {\"outlinewidth\": 0, \"ticks\": \"\"}}, \"type\": \"scattermapbox\"}], \"scatterpolar\": [{\"marker\": {\"colorbar\": {\"outlinewidth\": 0, \"ticks\": \"\"}}, \"type\": \"scatterpolar\"}], \"scatterpolargl\": [{\"marker\": {\"colorbar\": {\"outlinewidth\": 0, \"ticks\": \"\"}}, \"type\": \"scatterpolargl\"}], \"scatterternary\": [{\"marker\": {\"colorbar\": {\"outlinewidth\": 0, \"ticks\": \"\"}}, \"type\": \"scatterternary\"}], \"surface\": [{\"colorbar\": {\"outlinewidth\": 0, \"ticks\": \"\"}, \"colorscale\": [[0.0, \"#0d0887\"], [0.1111111111111111, \"#46039f\"], [0.2222222222222222, \"#7201a8\"], [0.3333333333333333, \"#9c179e\"], [0.4444444444444444, \"#bd3786\"], [0.5555555555555556, \"#d8576b\"], [0.6666666666666666, \"#ed7953\"], [0.7777777777777778, \"#fb9f3a\"], [0.8888888888888888, \"#fdca26\"], [1.0, \"#f0f921\"]], \"type\": \"surface\"}], \"table\": [{\"cells\": {\"fill\": {\"color\": \"#EBF0F8\"}, \"line\": {\"color\": \"white\"}}, \"header\": {\"fill\": {\"color\": \"#C8D4E3\"}, \"line\": {\"color\": \"white\"}}, \"type\": \"table\"}]}, \"layout\": {\"annotationdefaults\": {\"arrowcolor\": \"#2a3f5f\", \"arrowhead\": 0, \"arrowwidth\": 1}, \"coloraxis\": {\"colorbar\": {\"outlinewidth\": 0, \"ticks\": \"\"}}, \"colorscale\": {\"diverging\": [[0, \"#8e0152\"], [0.1, \"#c51b7d\"], [0.2, \"#de77ae\"], [0.3, \"#f1b6da\"], [0.4, \"#fde0ef\"], [0.5, \"#f7f7f7\"], [0.6, \"#e6f5d0\"], [0.7, \"#b8e186\"], [0.8, \"#7fbc41\"], [0.9, \"#4d9221\"], [1, \"#276419\"]], \"sequential\": [[0.0, \"#0d0887\"], [0.1111111111111111, \"#46039f\"], [0.2222222222222222, \"#7201a8\"], [0.3333333333333333, \"#9c179e\"], [0.4444444444444444, \"#bd3786\"], [0.5555555555555556, \"#d8576b\"], [0.6666666666666666, \"#ed7953\"], [0.7777777777777778, \"#fb9f3a\"], [0.8888888888888888, \"#fdca26\"], [1.0, \"#f0f921\"]], \"sequentialminus\": [[0.0, \"#0d0887\"], [0.1111111111111111, \"#46039f\"], [0.2222222222222222, \"#7201a8\"], [0.3333333333333333, \"#9c179e\"], [0.4444444444444444, \"#bd3786\"], [0.5555555555555556, \"#d8576b\"], [0.6666666666666666, \"#ed7953\"], [0.7777777777777778, \"#fb9f3a\"], [0.8888888888888888, \"#fdca26\"], [1.0, \"#f0f921\"]]}, \"colorway\": [\"#636efa\", \"#EF553B\", \"#00cc96\", \"#ab63fa\", \"#FFA15A\", \"#19d3f3\", \"#FF6692\", \"#B6E880\", \"#FF97FF\", \"#FECB52\"], \"font\": {\"color\": \"#2a3f5f\"}, \"geo\": {\"bgcolor\": \"white\", \"lakecolor\": \"white\", \"landcolor\": \"#E5ECF6\", \"showlakes\": true, \"showland\": true, \"subunitcolor\": \"white\"}, \"hoverlabel\": {\"align\": \"left\"}, \"hovermode\": \"closest\", \"mapbox\": {\"style\": \"light\"}, \"paper_bgcolor\": \"white\", \"plot_bgcolor\": \"#E5ECF6\", \"polar\": {\"angularaxis\": {\"gridcolor\": \"white\", \"linecolor\": \"white\", \"ticks\": \"\"}, \"bgcolor\": \"#E5ECF6\", \"radialaxis\": {\"gridcolor\": \"white\", \"linecolor\": \"white\", \"ticks\": \"\"}}, \"scene\": {\"xaxis\": {\"backgroundcolor\": \"#E5ECF6\", \"gridcolor\": \"white\", \"gridwidth\": 2, \"linecolor\": \"white\", \"showbackground\": true, \"ticks\": \"\", \"zerolinecolor\": \"white\"}, \"yaxis\": {\"backgroundcolor\": \"#E5ECF6\", \"gridcolor\": \"white\", \"gridwidth\": 2, \"linecolor\": \"white\", \"showbackground\": true, \"ticks\": \"\", \"zerolinecolor\": \"white\"}, \"zaxis\": {\"backgroundcolor\": \"#E5ECF6\", \"gridcolor\": \"white\", \"gridwidth\": 2, \"linecolor\": \"white\", \"showbackground\": true, \"ticks\": \"\", \"zerolinecolor\": \"white\"}}, \"shapedefaults\": {\"line\": {\"color\": \"#2a3f5f\"}}, \"ternary\": {\"aaxis\": {\"gridcolor\": \"white\", \"linecolor\": \"white\", \"ticks\": \"\"}, \"baxis\": {\"gridcolor\": \"white\", \"linecolor\": \"white\", \"ticks\": \"\"}, \"bgcolor\": \"#E5ECF6\", \"caxis\": {\"gridcolor\": \"white\", \"linecolor\": \"white\", \"ticks\": \"\"}}, \"title\": {\"x\": 0.05}, \"xaxis\": {\"automargin\": true, \"gridcolor\": \"white\", \"linecolor\": \"white\", \"ticks\": \"\", \"title\": {\"standoff\": 15}, \"zerolinecolor\": \"white\", \"zerolinewidth\": 2}, \"yaxis\": {\"automargin\": true, \"gridcolor\": \"white\", \"linecolor\": \"white\", \"ticks\": \"\", \"title\": {\"standoff\": 15}, \"zerolinecolor\": \"white\", \"zerolinewidth\": 2}}}, \"title\": {\"text\": \"Infy Candles july 2020 till date\"}, \"xaxis\": {\"rangeslider\": {\"visible\": false}}},\n",
       "                        {\"responsive\": true}\n",
       "                    ).then(function(){\n",
       "                            \n",
       "var gd = document.getElementById('59408caf-83a7-409b-9508-691baf3350d7');\n",
       "var x = new MutationObserver(function (mutations, observer) {{\n",
       "        var display = window.getComputedStyle(gd).display;\n",
       "        if (!display || display === 'none') {{\n",
       "            console.log([gd, 'removed!']);\n",
       "            Plotly.purge(gd);\n",
       "            observer.disconnect();\n",
       "        }}\n",
       "}});\n",
       "\n",
       "// Listen for the removal of the full notebook cells\n",
       "var notebookContainer = gd.closest('#notebook-container');\n",
       "if (notebookContainer) {{\n",
       "    x.observe(notebookContainer, {childList: true});\n",
       "}}\n",
       "\n",
       "// Listen for the clearing of the current output cell\n",
       "var outputEl = gd.closest('.output');\n",
       "if (outputEl) {{\n",
       "    x.observe(outputEl, {childList: true});\n",
       "}}\n",
       "\n",
       "                        })\n",
       "                };\n",
       "                });\n",
       "            </script>\n",
       "        </div>"
      ]
     },
     "metadata": {},
     "output_type": "display_data"
    }
   ],
   "source": [
    "#create the figure container with data object. The trace is a candlestick chart\n",
    "fig = go.Figure(data = [ go.Candlestick(\n",
    "    x = infy['Date'][100:],\n",
    "    open  = infy['Open'][100:],\n",
    "    high = infy['High'][100:],\n",
    "    low = infy['Low'][100:],\n",
    "    close = infy['Close'][100:]\n",
    ")])\n",
    "\n",
    "# create the layout object with rangeslider value as false\n",
    "fig.update_layout (title_text = \"Infy Candles july 2020 till date\",\n",
    "                  xaxis = dict(\n",
    "                      rangeslider = dict(\n",
    "                          visible = False\n",
    "                      )\n",
    "                  ))\n",
    "\n",
    "#plot the figure container\n",
    "fig.show()"
   ]
  },
  {
   "cell_type": "code",
   "execution_count": null,
   "metadata": {},
   "outputs": [],
   "source": []
  }
 ],
 "metadata": {
  "kernelspec": {
   "display_name": "Python 3",
   "language": "python",
   "name": "python3"
  },
  "language_info": {
   "codemirror_mode": {
    "name": "ipython",
    "version": 3
   },
   "file_extension": ".py",
   "mimetype": "text/x-python",
   "name": "python",
   "nbconvert_exporter": "python",
   "pygments_lexer": "ipython3",
   "version": "3.7.6"
  }
 },
 "nbformat": 4,
 "nbformat_minor": 4
}
